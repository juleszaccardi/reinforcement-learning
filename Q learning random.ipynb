{
 "cells": [
  {
   "cell_type": "code",
   "execution_count": 46,
   "metadata": {},
   "outputs": [],
   "source": [
    "import numpy as np\n",
    "import matplotlib.pyplot as plt"
   ]
  },
  {
   "cell_type": "code",
   "execution_count": 47,
   "metadata": {},
   "outputs": [],
   "source": [
    "states = [1,2,3,4,5,6,7,8,9]\n",
    "actions = ['droite', 'haut','gauche','bas']"
   ]
  },
  {
   "cell_type": "code",
   "execution_count": 48,
   "metadata": {},
   "outputs": [],
   "source": [
    "matrix1 = np.random.rand(len(states),len(states))\n",
    "matrix2 = np.random.rand(len(states),len(states))\n",
    "matrix3 = np.random.rand(len(states),len(states))\n",
    "matrix4 = np.random.rand(len(states),len(states))\n",
    "\n",
    "matrix1 = matrix1/matrix1.sum(axis=1)[:,None]\n",
    "matrix2 = matrix2/matrix2.sum(axis=1)[:,None]\n",
    "matrix3 = matrix3/matrix3.sum(axis=1)[:,None]\n",
    "matrix4 = matrix4/matrix4.sum(axis=1)[:,None]"
   ]
  },
  {
   "cell_type": "code",
   "execution_count": 49,
   "metadata": {},
   "outputs": [],
   "source": [
    "def transition_matrix_random(u, m1, m2,m3,m4):\n",
    "    if u == 'gauche':\n",
    "        tr = m1\n",
    "    if u == 'droite':\n",
    "        tr = m2\n",
    "    if u == 'haut':\n",
    "        tr = m3\n",
    "    if u == 'bas':\n",
    "        tr = m4\n",
    "    return(tr)"
   ]
  },
  {
   "cell_type": "code",
   "execution_count": 50,
   "metadata": {},
   "outputs": [],
   "source": [
    "def transition_random(s, u, m1, m2,m3,m4):\n",
    "    tr = transition_matrix_random(u, m1, m2,m3,m4)\n",
    "    ligne = tr[s - 1]\n",
    "    return np.random.choice(states, size=1, replace=True, p=ligne)[0]"
   ]
  },
  {
   "cell_type": "code",
   "execution_count": 51,
   "metadata": {},
   "outputs": [],
   "source": [
    "def reward(s, u):\n",
    "    if s==3:\n",
    "        return 10\n",
    "    elif s==4:\n",
    "        return -10\n",
    "    else:\n",
    "        return 0"
   ]
  },
  {
   "cell_type": "code",
   "execution_count": 52,
   "metadata": {},
   "outputs": [],
   "source": [
    "def env_step_random(s, u, m1, m2,m3,m4):\n",
    "    next_state = transition_random(s, u, m1, m2,m3,m4)\n",
    "    rew = reward(s, u)\n",
    "    done = ((s == 3) or (next_state == 3))\n",
    "    return next_state, rew, done"
   ]
  },
  {
   "cell_type": "markdown",
   "metadata": {},
   "source": [
    "# Q-learning algorithm"
   ]
  },
  {
   "cell_type": "code",
   "execution_count": 53,
   "metadata": {},
   "outputs": [],
   "source": [
    "q_table_random = np.zeros([len(states),len(actions)])"
   ]
  },
  {
   "cell_type": "code",
   "execution_count": 54,
   "metadata": {},
   "outputs": [],
   "source": [
    "# Hyperparameters\n",
    "alpha = 0.1\n",
    "gamma = 0.6\n",
    "epsilon = 0.1\n",
    "\n",
    "# For plotting metrics\n",
    "all_epochs = []\n",
    "all_penalties = []"
   ]
  },
  {
   "cell_type": "code",
   "execution_count": 55,
   "metadata": {},
   "outputs": [
    {
     "name": "stdout",
     "output_type": "stream",
     "text": [
      "Training finished.\n",
      "\n"
     ]
    }
   ],
   "source": [
    "for i in range(10000):\n",
    "    s = np.random.randint(1,len(states)+1) #initial state\n",
    "    state_index = s-1\n",
    "    \n",
    "    epochs, penalties, rew = 0, 0, 0\n",
    "    done = False\n",
    "    \n",
    "    for j in range(5):\n",
    "        if np.random.uniform(0, 1) < epsilon:\n",
    "            action_index = np.random.randint(0,len(actions)) # Explore action space\n",
    "        else:\n",
    "            action_index = np.argmax(q_table_random[state_index]) # Exploit learned values\n",
    "\n",
    "        u = actions[action_index]\n",
    "\n",
    "        next_state, rew, done = env_step_random(s, u, matrix1, matrix2, matrix3, matrix4)\n",
    "        next_state_index = next_state - 1\n",
    "        \n",
    "        old_value = q_table_random[state_index, action_index]\n",
    "        next_max = np.max(q_table_random[next_state_index])\n",
    "\n",
    "        new_value = (1 - alpha) * old_value + alpha * (rew + gamma * next_max)\n",
    "        q_table_random[state_index, action_index] = new_value\n",
    "\n",
    "        if rew == -10:\n",
    "            penalties += 1\n",
    "\n",
    "        s = next_state\n",
    "        state_index = s-1\n",
    "\n",
    "        epochs += 1\n",
    "\n",
    "print(\"Training finished.\\n\")"
   ]
  },
  {
   "cell_type": "code",
   "execution_count": 56,
   "metadata": {
    "scrolled": true
   },
   "outputs": [
    {
     "name": "stdout",
     "output_type": "stream",
     "text": [
      "['droite', 'haut', 'gauche', 'bas']\n",
      "[[  0.51000105   0.07892471   0.70260018   3.00012506]\n",
      " [  2.34335731   0.94897402   1.25548239   0.70662916]\n",
      " [ 12.16193988  10.61525767  10.58125247  10.59371482]\n",
      " [-11.06413508 -11.01252863 -11.06297382  -8.60182994]\n",
      " [ -0.39078768   0.39305681   4.0639255    0.78796465]\n",
      " [  1.89253538  -0.25651533   0.59313265   0.56598393]\n",
      " [  0.61289255   0.12603179   2.07764567   0.87547477]\n",
      " [  3.11530037   1.33178167   0.30250814   0.6951124 ]\n",
      " [  0.38481462  -0.95365487   0.40746892   0.80627799]]\n"
     ]
    }
   ],
   "source": [
    "print(actions)\n",
    "print(q_table_random)"
   ]
  },
  {
   "cell_type": "markdown",
   "metadata": {},
   "source": [
    "## Computing optimal values using value iteration algorithm"
   ]
  },
  {
   "cell_type": "code",
   "execution_count": 57,
   "metadata": {},
   "outputs": [],
   "source": [
    "q_dp_random = np.zeros([len(states),len(actions)])\n",
    "q_dp_random[2]=10\n",
    "q_dp_random[3]=-10\n"
   ]
  },
  {
   "cell_type": "code",
   "execution_count": 58,
   "metadata": {},
   "outputs": [],
   "source": [
    "for t in range(100, 0,-1):\n",
    "    q_dp_random_new = q_dp_random.copy()\n",
    "    for i in range(len(states)):\n",
    "        for j in range(len(actions)):\n",
    "            u = actions[j]\n",
    "            s = states[i]\n",
    "            trmat = transition_matrix_random(u, matrix1, matrix2, matrix3, matrix4)\n",
    "            ligne_i = trmat[i]\n",
    "            q_max = np.max(q_dp_random, axis = 1)\n",
    "            q_dp_random_new[i][j] = reward(s,u) + gamma*np.dot(q_max, ligne_i)\n",
    "    q_dp_random = q_dp_random_new"
   ]
  },
  {
   "cell_type": "code",
   "execution_count": 59,
   "metadata": {},
   "outputs": [
    {
     "name": "stdout",
     "output_type": "stream",
     "text": [
      "['droite', 'haut', 'gauche', 'bas']\n"
     ]
    },
    {
     "data": {
      "text/plain": [
       "array([[ 0.35685379,  0.37876481,  0.22580364,  1.99508499],\n",
       "       [ 2.45578408,  1.09224185,  1.21405838,  1.01963287],\n",
       "       [11.87003389, 11.58738323, 11.21625512, 11.60446863],\n",
       "       [-9.85917018, -9.83375969, -9.77696181, -9.44750099],\n",
       "       [ 0.51072672,  0.99697855,  2.28854134,  1.73124755],\n",
       "       [ 1.7775266 ,  0.6834129 ,  1.61494613,  1.39717459],\n",
       "       [ 2.18296487,  0.67822177,  1.91486822,  1.61470726],\n",
       "       [ 2.3605162 ,  1.18127884,  0.46853278,  1.18593365],\n",
       "       [ 0.97288621,  0.31629629,  0.63345081,  1.20108628]])"
      ]
     },
     "execution_count": 59,
     "metadata": {},
     "output_type": "execute_result"
    }
   ],
   "source": [
    "print(actions)\n",
    "q_dp_random"
   ]
  },
  {
   "cell_type": "code",
   "execution_count": 60,
   "metadata": {},
   "outputs": [
    {
     "data": {
      "text/plain": [
       "0.8056988819182915"
      ]
     },
     "execution_count": 60,
     "metadata": {},
     "output_type": "execute_result"
    }
   ],
   "source": [
    "#error\n",
    "(np.mean((q_table_random-q_dp_random)**2))**0.5"
   ]
  },
  {
   "cell_type": "markdown",
   "metadata": {},
   "source": [
    "## Comparing number of iterations vs error"
   ]
  },
  {
   "cell_type": "code",
   "execution_count": 61,
   "metadata": {},
   "outputs": [],
   "source": [
    "time_steps = np.logspace(1, 6, 10, endpoint=True).astype(int)\n",
    "error = np.zeros(len(time_steps))"
   ]
  },
  {
   "cell_type": "code",
   "execution_count": 62,
   "metadata": {},
   "outputs": [
    {
     "name": "stdout",
     "output_type": "stream",
     "text": [
      "0\n",
      "1\n",
      "2\n",
      "3\n",
      "4\n",
      "5\n",
      "6\n",
      "7\n",
      "8\n",
      "9\n",
      "Training finished.\n",
      "\n"
     ]
    }
   ],
   "source": [
    "for k in range(len(time_steps)):\n",
    "    print(k)\n",
    "    time = time_steps[k]\n",
    "    q_table_random = np.zeros([len(states),len(actions)])\n",
    "    for i in range(time):\n",
    "        s = np.random.randint(1,len(states)+1) #initial state\n",
    "        state_index = s-1\n",
    "\n",
    "        epochs, penalties, rew = 0, 0, 0\n",
    "        done = False\n",
    "\n",
    "        for j in range(3):\n",
    "            if np.random.uniform(0, 1) < epsilon:\n",
    "                action_index = np.random.randint(0,len(actions)) # Explore action space\n",
    "            else:\n",
    "                action_index = np.argmax(q_table_random[state_index]) # Exploit learned values\n",
    "\n",
    "            u = actions[action_index]\n",
    "\n",
    "            next_state, rew, done = env_step_random(s, u, matrix1, matrix2, matrix3, matrix4)\n",
    "            next_state_index = next_state - 1\n",
    "\n",
    "            old_value = q_table_random[state_index, action_index]\n",
    "            next_max = np.max(q_table_random[next_state_index])\n",
    "\n",
    "            new_value = (1 - alpha) * old_value + alpha * (rew + gamma * next_max)\n",
    "            q_table_random[state_index, action_index] = new_value\n",
    "\n",
    "            if rew == -10:\n",
    "                penalties += 1\n",
    "\n",
    "            s = next_state\n",
    "            state_index = s-1\n",
    "\n",
    "            epochs += 1\n",
    "            \n",
    "    error[k] = (np.mean((q_table_random-q_dp_random)**2))**0.5\n",
    "\n",
    "\n",
    "print(\"Training finished.\\n\")"
   ]
  },
  {
   "cell_type": "code",
   "execution_count": 64,
   "metadata": {},
   "outputs": [
    {
     "data": {
      "text/plain": [
       "[<matplotlib.lines.Line2D at 0x50d94d0>]"
      ]
     },
     "execution_count": 64,
     "metadata": {},
     "output_type": "execute_result"
    },
    {
     "data": {
      "image/png": "[encoded data removed]",
      "text/plain": [
       "<Figure size 432x288 with 1 Axes>"
      ]
     },
     "metadata": {
      "needs_background": "light"
     },
     "output_type": "display_data"
    }
   ],
   "source": [
    "plt.plot(np.log(time_steps), error)"
   ]
  }
 ],
 "metadata": {
  "kernelspec": {
   "display_name": "Python 3",
   "language": "python",
   "name": "python3"
  },
  "language_info": {
   "codemirror_mode": {
    "name": "ipython",
    "version": 3
   },
   "file_extension": ".py",
   "mimetype": "text/x-python",
   "name": "python",
   "nbconvert_exporter": "python",
   "pygments_lexer": "ipython3",
   "version": "3.7.4"
  }
 },
 "nbformat": 4,
 "nbformat_minor": 4
}
