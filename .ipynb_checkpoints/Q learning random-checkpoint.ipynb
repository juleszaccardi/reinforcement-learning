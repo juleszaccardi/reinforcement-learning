{
 "cells": [
  {
   "cell_type": "code",
   "execution_count": 2,
   "metadata": {},
   "outputs": [],
   "source": [
    "import numpy as np\n",
    "import matplotlib.pyplot as plt"
   ]
  },
  {
   "cell_type": "code",
   "execution_count": 3,
   "metadata": {},
   "outputs": [],
   "source": [
    "states = [1,2,3,4,5,6,7,8,9]\n",
    "actions = ['droite', 'haut','gauche','bas']\n",
    "w = 'gauche'\n",
    "f = 0.1 #force du vent"
   ]
  },
  {
   "cell_type": "code",
   "execution_count": 12,
   "metadata": {},
   "outputs": [],
   "source": [
    "def transition_matrix_random(u, wind, force):\n",
    "        \n",
    "    if u == 'gauche':\n",
    "        mini = np.array([[1,0,0],[1,0,0],[0,1,0]])\n",
    "        zeros_block = np.array([[0,0,0],[0,0,0],[0,0,0]])\n",
    "        tr = np.block([[mini, zeros_block, zeros_block], [zeros_block,mini, zeros_block],[zeros_block,zeros_block,mini]])\n",
    "    if u == 'droite':\n",
    "        mini = np.array([[0,1,0],[0,0,1],[0,0,1]])\n",
    "        zeros_block = np.array([[0,0,0],[0,0,0],[0,0,0]])\n",
    "        tr = np.block([[mini, zeros_block, zeros_block], [zeros_block,mini, zeros_block],[zeros_block,zeros_block,mini]])\n",
    "    if u == 'haut':\n",
    "        mini = np.eye(3)\n",
    "        zeros_block = np.array([[0,0,0],[0,0,0],[0,0,0]])\n",
    "        tr = np.block([[mini, zeros_block, zeros_block], [mini, zeros_block, zeros_block],[zeros_block,mini,zeros_block]])\n",
    "    if u == 'bas':\n",
    "        mini = np.eye(3)\n",
    "        zeros_block = np.array([[0,0,0],[0,0,0],[0,0,0]])\n",
    "        tr = np.block([[zeros_block, mini, zeros_block], [zeros_block, zeros_block, mini],[zeros_block,zeros_block, mini]])\n",
    "    \n",
    "    #adding a wind component:\n",
    "    if wind == 'droite':\n",
    "        mini_random = np.array([[1-force,force,0],[0,1-force,force],[0,0,1]])\n",
    "        zeros_block = np.array([[0,0,0],[0,0,0],[0,0,0]])\n",
    "        wind_mat = np.block([[mini_random, zeros_block, zeros_block], [zeros_block,mini_random, zeros_block],[zeros_block,zeros_block,mini_random]])\n",
    "    if wind == 'gauche':\n",
    "        mini_random = np.array([[1,0,0],[force,1-force,0],[0,force,1-force]])\n",
    "        zeros_block = np.array([[0,0,0],[0,0,0],[0,0,0]])\n",
    "        wind_mat = np.block([[mini_random, zeros_block, zeros_block], [zeros_block,mini_random, zeros_block],[zeros_block,zeros_block,mini_random]])\n",
    "    if wind == 'haut':\n",
    "        mini_random1 = np.identity(3)*force\n",
    "        mini_random2 = np.identity(3)*(1-force)\n",
    "        zeros_block = np.array([[0,0,0],[0,0,0],[0,0,0]])\n",
    "        wind_mat = np.block([[np.identity(3), zeros_block, zeros_block], [mini_random1,mini_random2, zeros_block],[zeros_block,mini_random1,mini_random2]])\n",
    "    if wind == 'bas':\n",
    "        mini_random1 = np.identity(3)*force\n",
    "        mini_random2 = np.identity(3)*(1-force)\n",
    "        zeros_block = np.array([[0,0,0],[0,0,0],[0,0,0]])\n",
    "        wind_mat = np.block([[mini_random2,mini_random1, zeros_block],[zeros_block,mini_random2,mini_random1], [zeros_block, zeros_block,np.identity(3)]])\n",
    "        \n",
    "    return (np.dot(tr, wind_mat))"
   ]
  },
  {
   "cell_type": "code",
   "execution_count": 13,
   "metadata": {},
   "outputs": [
    {
     "data": {
      "text/plain": [
       "array([[0. , 1. , 0. , 0. , 0. , 0. , 0. , 0. , 0. ],\n",
       "       [0. , 0. , 1. , 0. , 0. , 0. , 0. , 0. , 0. ],\n",
       "       [0. , 0. , 1. , 0. , 0. , 0. , 0. , 0. , 0. ],\n",
       "       [0. , 0.1, 0. , 0. , 0.9, 0. , 0. , 0. , 0. ],\n",
       "       [0. , 0. , 0.1, 0. , 0. , 0.9, 0. , 0. , 0. ],\n",
       "       [0. , 0. , 0.1, 0. , 0. , 0.9, 0. , 0. , 0. ],\n",
       "       [0. , 0. , 0. , 0. , 0.1, 0. , 0. , 0.9, 0. ],\n",
       "       [0. , 0. , 0. , 0. , 0. , 0.1, 0. , 0. , 0.9],\n",
       "       [0. , 0. , 0. , 0. , 0. , 0.1, 0. , 0. , 0.9]])"
      ]
     },
     "execution_count": 13,
     "metadata": {},
     "output_type": "execute_result"
    }
   ],
   "source": [
    "transition_matrix_random('droite', 'haut', 0.1)"
   ]
  },
  {
   "cell_type": "code",
   "execution_count": 14,
   "metadata": {},
   "outputs": [],
   "source": [
    "def transition_random(s, u, wind, force):\n",
    "    tr = transition_matrix_random(u, wind, force)\n",
    "    ligne = tr[s - 1]\n",
    "    return np.random.choice(states, size=1, replace=True, p=ligne)[0]"
   ]
  },
  {
   "cell_type": "code",
   "execution_count": 15,
   "metadata": {},
   "outputs": [],
   "source": [
    "def reward(s, u):\n",
    "    if s==3:\n",
    "        return 10\n",
    "    elif s==4:\n",
    "        return -10\n",
    "    else:\n",
    "        return 0"
   ]
  },
  {
   "cell_type": "code",
   "execution_count": 16,
   "metadata": {},
   "outputs": [],
   "source": [
    "def env_step_random(s, u, wind, force):\n",
    "    next_state = transition_random(s, u, wind, force)\n",
    "    rew = reward(s, u)\n",
    "    done = ((s == 3) or (next_state == 3))\n",
    "    return next_state, rew, done"
   ]
  },
  {
   "cell_type": "markdown",
   "metadata": {},
   "source": [
    "# Q-learning algorithm"
   ]
  },
  {
   "cell_type": "code",
   "execution_count": 17,
   "metadata": {},
   "outputs": [],
   "source": [
    "q_table = np.zeros([len(states),len(actions)])"
   ]
  },
  {
   "cell_type": "code",
   "execution_count": 18,
   "metadata": {},
   "outputs": [],
   "source": [
    "# Hyperparameters\n",
    "alpha = 0.1\n",
    "gamma = 0.6\n",
    "epsilon = 0.1\n",
    "\n",
    "# For plotting metrics\n",
    "all_epochs = []\n",
    "all_penalties = []"
   ]
  },
  {
   "cell_type": "code",
   "execution_count": 19,
   "metadata": {},
   "outputs": [
    {
     "name": "stdout",
     "output_type": "stream",
     "text": [
      "Training finished.\n",
      "\n"
     ]
    }
   ],
   "source": [
    "for i in range(10000):\n",
    "    s = np.random.randint(1,len(states)+1) #initial state\n",
    "    state_index = s-1\n",
    "    \n",
    "    epochs, penalties, rew = 0, 0, 0\n",
    "    done = False\n",
    "    \n",
    "    for j in range(5):\n",
    "        if np.random.uniform(0, 1) < epsilon:\n",
    "            action_index = np.random.randint(0,len(actions)) # Explore action space\n",
    "        else:\n",
    "            action_index = np.argmax(q_table[state_index]) # Exploit learned values\n",
    "\n",
    "        u = actions[action_index]\n",
    "\n",
    "        next_state, rew, done = env_step_random(s, u, w, f)\n",
    "        next_state_index = next_state - 1\n",
    "        \n",
    "        old_value = q_table[state_index, action_index]\n",
    "        next_max = np.max(q_table[next_state_index])\n",
    "\n",
    "        new_value = (1 - alpha) * old_value + alpha * (rew + gamma * next_max)\n",
    "        q_table[state_index, action_index] = new_value\n",
    "\n",
    "        if rew == -10:\n",
    "            penalties += 1\n",
    "\n",
    "        s = next_state\n",
    "        state_index = s-1\n",
    "\n",
    "        epochs += 1\n",
    "\n",
    "print(\"Training finished.\\n\")"
   ]
  },
  {
   "cell_type": "code",
   "execution_count": 20,
   "metadata": {
    "scrolled": true
   },
   "outputs": [
    {
     "name": "stdout",
     "output_type": "stream",
     "text": [
      "['droite', 'haut', 'gauche', 'bas']\n",
      "[[  7.87735118   4.64551048   4.69373705  -3.21111045]\n",
      " [ 12.96428051   7.82043076   4.72903264   3.72451439]\n",
      " [ 22.22060989  22.75702978  17.4157197   17.84735417]\n",
      " [ -5.77116787  -5.17296075 -13.10001903  -8.25368366]\n",
      " [  7.3191757    7.72339005  -3.17362384   2.47391338]\n",
      " [  7.51951319  13.90882961   3.32974949   4.36102282]\n",
      " [  2.55352693  -2.92584593   1.39706915   1.47692362]\n",
      " [  4.40603434   3.64018474   1.52890757   2.5294096 ]\n",
      " [  4.57044916   7.65828737   2.53762668   4.51418251]]\n"
     ]
    }
   ],
   "source": [
    "print(actions)\n",
    "print(q_table)"
   ]
  },
  {
   "cell_type": "markdown",
   "metadata": {},
   "source": [
    "## Computing optimal values using value iteration algorithm"
   ]
  },
  {
   "cell_type": "code",
   "execution_count": 21,
   "metadata": {},
   "outputs": [],
   "source": [
    "q_dp = np.zeros([len(states),len(actions)])\n",
    "q_dp[2]=10\n",
    "q_dp[3]=-10\n"
   ]
  },
  {
   "cell_type": "code",
   "execution_count": 22,
   "metadata": {},
   "outputs": [],
   "source": [
    "for t in range(100, 0,-1):\n",
    "    q_dp_new = q_dp.copy()\n",
    "    for i in range(len(states)):\n",
    "        for j in range(len(actions)):\n",
    "            u = actions[j]\n",
    "            s = states[i]\n",
    "            trmat = transition_matrix_random(u,w,f)\n",
    "            ligne_i = trmat[i]\n",
    "            q_max = np.max(q_dp, axis = 1)\n",
    "            q_dp_new[i][j] = reward(s,u) + gamma*np.dot(q_max, ligne_i)\n",
    "    q_dp = q_dp_new"
   ]
  },
  {
   "cell_type": "code",
   "execution_count": 23,
   "metadata": {},
   "outputs": [
    {
     "name": "stdout",
     "output_type": "stream",
     "text": [
      "['droite', 'haut', 'gauche', 'bas']\n"
     ]
    },
    {
     "data": {
      "text/plain": [
       "array([[  7.75531915,   4.65319149,   4.65319149,  -3.20808511],\n",
       "       [ 13.5       ,   7.75531915,   4.65319149,   3.86706383],\n",
       "       [ 23.5       ,  23.5       ,  17.75531915,  17.75531915],\n",
       "       [ -6.13293617,  -5.34680851, -13.20808511,  -8.46438361],\n",
       "       [  7.75531915,   7.75531915,  -3.20808511,   2.55936064],\n",
       "       [  7.75531915,  13.5       ,   3.86706383,   4.45518334],\n",
       "       [  2.55936064,  -3.20808511,   1.53561639,   1.53561639],\n",
       "       [  4.45518334,   3.86706383,   1.53561639,   2.55936064],\n",
       "       [  4.45518334,   7.75531915,   2.55936064,   4.45518334]])"
      ]
     },
     "execution_count": 23,
     "metadata": {},
     "output_type": "execute_result"
    }
   ],
   "source": [
    "print(actions)\n",
    "q_dp"
   ]
  },
  {
   "cell_type": "code",
   "execution_count": 24,
   "metadata": {},
   "outputs": [
    {
     "data": {
      "text/plain": [
       "0.32350481643004486"
      ]
     },
     "execution_count": 24,
     "metadata": {},
     "output_type": "execute_result"
    }
   ],
   "source": [
    "#error\n",
    "(np.mean((q_table-q_dp)**2))**0.5"
   ]
  },
  {
   "cell_type": "markdown",
   "metadata": {},
   "source": [
    "## Comparing number of iterations vs error"
   ]
  },
  {
   "cell_type": "code",
   "execution_count": 25,
   "metadata": {},
   "outputs": [],
   "source": [
    "time_steps = np.logspace(1, 5, 10, endpoint=True).astype(int)\n",
    "error = np.zeros(len(time_steps))"
   ]
  },
  {
   "cell_type": "code",
   "execution_count": 26,
   "metadata": {},
   "outputs": [
    {
     "name": "stdout",
     "output_type": "stream",
     "text": [
      "0\n",
      "1\n",
      "2\n",
      "3\n",
      "4\n",
      "5\n",
      "6\n",
      "7\n",
      "8\n",
      "9\n"
     ]
    }
   ],
   "source": [
    "for k in range(len(time_steps)):\n",
    "    print(k)\n",
    "    time = time_steps[k]\n",
    "    q_table = np.zeros([len(states),len(actions)])\n",
    "    for i in range(time):\n",
    "        s = np.random.randint(1,len(states)+1) #initial state\n",
    "        state_index = s-1\n",
    "\n",
    "        epochs, penalties, rew = 0, 0, 0\n",
    "        done = False\n",
    "\n",
    "        for j in range(3):\n",
    "            if np.random.uniform(0, 1) < epsilon:\n",
    "                action_index = np.random.randint(0,len(actions)) # Explore action space\n",
    "            else:\n",
    "                action_index = np.argmax(q_table[state_index]) # Exploit learned values\n",
    "\n",
    "            u = actions[action_index]\n",
    "\n",
    "            next_state, rew, done = env_step_random(s, u, w, f)\n",
    "            next_state_index = next_state - 1\n",
    "\n",
    "            old_value = q_table[state_index, action_index]\n",
    "            next_max = np.max(q_table[next_state_index])\n",
    "\n",
    "            new_value = (1 - alpha) * old_value + alpha * (rew + gamma * next_max)\n",
    "            q_table[state_index, action_index] = new_value\n",
    "\n",
    "            if rew == -10:\n",
    "                penalties += 1\n",
    "\n",
    "            s = next_state\n",
    "            state_index = s-1\n",
    "\n",
    "            epochs += 1\n",
    "            \n",
    "    error[k] = (np.mean((q_table-q_dp)**2))**0.5\n",
    "\n",
    "\n",
    "print(\"Training finished.\\n\")"
   ]
  },
  {
   "cell_type": "code",
   "execution_count": 30,
   "metadata": {},
   "outputs": [
    {
     "data": {
      "text/plain": [
       "[<matplotlib.lines.Line2D at 0x4c290f0>]"
      ]
     },
     "execution_count": 30,
     "metadata": {},
     "output_type": "execute_result"
    },
    {
     "data": {
      "image/png": "[encoded data removed]",
      "text/plain": [
       "<Figure size 432x288 with 1 Axes>"
      ]
     },
     "metadata": {
      "needs_background": "light"
     },
     "output_type": "display_data"
    }
   ],
   "source": [
    "plt.plot(np.log(time_steps), np.log(error))"
   ]
  },
  {
   "cell_type": "code",
   "execution_count": null,
   "metadata": {},
   "outputs": [],
   "source": []
  }
 ],
 "metadata": {
  "kernelspec": {
   "display_name": "Python 3",
   "language": "python",
   "name": "python3"
  },
  "language_info": {
   "codemirror_mode": {
    "name": "ipython",
    "version": 3
   },
   "file_extension": ".py",
   "mimetype": "text/x-python",
   "name": "python",
   "nbconvert_exporter": "python",
   "pygments_lexer": "ipython3",
   "version": "3.7.4"
  }
 },
 "nbformat": 4,
 "nbformat_minor": 4
}
