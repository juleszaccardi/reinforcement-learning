{
 "cells": [
  {
   "cell_type": "code",
   "execution_count": 2,
   "metadata": {},
   "outputs": [],
   "source": [
    "import numpy as np\n",
    "import matplotlib.pyplot as plt"
   ]
  },
  {
   "cell_type": "code",
   "execution_count": null,
   "metadata": {},
   "outputs": [],
   "source": [
    "states = [1,2,3,4,5,6,7,8,9]\n",
    "actions = ['droite', 'haut','gauche','bas']\n",
    "\n",
    "def transition_matrix(u):\n",
    "    if u == 'gauche':\n",
    "        mini = np.array([[1,0,0],[1,0,0],[0,1,0]])\n",
    "        zeros_block = np.array([[0,0,0],[0,0,0],[0,0,0]])\n",
    "        tr = np.block([[mini, zeros_block, zeros_block], [zeros_block,mini, zeros_block],[zeros_block,zeros_block,mini]])\n",
    "    \n",
    "    if u == 'droite':\n",
    "        mini = np.array([[0,1,0],[0,0,1],[0,0,1]])\n",
    "        zeros_block = np.array([[0,0,0],[0,0,0],[0,0,0]])\n",
    "        tr = np.block([[mini, zeros_block, zeros_block], [zeros_block,mini, zeros_block],[zeros_block,zeros_block,mini]])\n",
    "        \n",
    "    if u == 'haut':\n",
    "        mini = np.eye(3)\n",
    "        zeros_block = np.array([[0,0,0],[0,0,0],[0,0,0]])\n",
    "        tr = np.block([[mini, zeros_block, zeros_block], [mini, zeros_block, zeros_block],[zeros_block,mini,zeros_block]])\n",
    "        \n",
    "    if u == 'bas':\n",
    "        mini = np.eye(3)\n",
    "        zeros_block = np.array([[0,0,0],[0,0,0],[0,0,0]])\n",
    "        tr = np.block([[zeros_block, mini, zeros_block], [zeros_block, zeros_block, mini],[zeros_block,zeros_block, mini]])    \n",
    "    return tr\n",
    "\n",
    "def transition(s, u):\n",
    "    tr = transition_matrix(u)\n",
    "    ligne = tr[s - 1]\n",
    "    return np.random.choice(states, size=1, replace=True, p=ligne)[0]\n",
    "\n",
    "def reward(s, u):\n",
    "    if s==3:\n",
    "        return 10\n",
    "    elif s==4:\n",
    "        return -10\n",
    "    else:\n",
    "        return 0\n",
    "\n",
    "def  env_step(s, u):\n",
    "    next_state = transition(s,u)\n",
    "    rew = reward(s, u)\n",
    "    done = ((s == 3) or (next_state == 3))\n",
    "    return next_state, rew, done"
   ]
  }
 ],
 "metadata": {
  "kernelspec": {
   "display_name": "Python 3",
   "language": "python",
   "name": "python3"
  },
  "language_info": {
   "codemirror_mode": {
    "name": "ipython",
    "version": 3
   },
   "file_extension": ".py",
   "mimetype": "text/x-python",
   "name": "python",
   "nbconvert_exporter": "python",
   "pygments_lexer": "ipython3",
   "version": "3.7.4"
  }
 },
 "nbformat": 4,
 "nbformat_minor": 4
}
