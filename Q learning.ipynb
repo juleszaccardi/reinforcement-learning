{
 "cells": [
  {
   "cell_type": "code",
   "execution_count": 102,
   "metadata": {},
   "outputs": [],
   "source": [
    "import numpy as np"
   ]
  },
  {
   "cell_type": "code",
   "execution_count": 103,
   "metadata": {},
   "outputs": [],
   "source": [
    "states = [1,2,3,4,5,6,7,8,9]\n",
    "actions = ['droite', 'haut','gauche','bas']"
   ]
  },
  {
   "cell_type": "code",
   "execution_count": 104,
   "metadata": {},
   "outputs": [],
   "source": [
    "def transition_matrix(u):\n",
    "    if u == 'gauche':\n",
    "        mini = np.array([[1,0,0],[1,0,0],[0,1,0]])\n",
    "        zeros_block = np.array([[0,0,0],[0,0,0],[0,0,0]])\n",
    "        tr = np.block([[mini, zeros_block, zeros_block], [zeros_block,mini, zeros_block],[zeros_block,zeros_block,mini]])\n",
    "    \n",
    "    if u == 'droite':\n",
    "        mini = np.array([[0,1,0],[0,0,1],[0,0,1]])\n",
    "        zeros_block = np.array([[0,0,0],[0,0,0],[0,0,0]])\n",
    "        tr = np.block([[mini, zeros_block, zeros_block], [zeros_block,mini, zeros_block],[zeros_block,zeros_block,mini]])\n",
    "        \n",
    "    if u == 'haut':\n",
    "        mini = np.eye(3)\n",
    "        zeros_block = np.array([[0,0,0],[0,0,0],[0,0,0]])\n",
    "        tr = np.block([[mini, zeros_block, zeros_block], [mini, zeros_block, zeros_block],[zeros_block,mini,zeros_block]])\n",
    "        \n",
    "    if u == 'bas':\n",
    "        mini = np.eye(3)\n",
    "        zeros_block = np.array([[0,0,0],[0,0,0],[0,0,0]])\n",
    "        tr = np.block([[zeros_block, mini, zeros_block], [zeros_block, zeros_block, mini],[zeros_block,zeros_block, mini]])    \n",
    "    return tr"
   ]
  },
  {
   "cell_type": "code",
   "execution_count": 105,
   "metadata": {},
   "outputs": [],
   "source": [
    "def transition(s, u):\n",
    "    tr = transition_matrix(u)\n",
    "    ligne = tr[s - 1]\n",
    "    return np.random.choice(states, size=1, replace=True, p=ligne)[0]"
   ]
  },
  {
   "cell_type": "code",
   "execution_count": 158,
   "metadata": {},
   "outputs": [],
   "source": [
    "def reward(s, u):\n",
    "#     if ((s == 2) and (u=='droite')) or (s==3) or ((s==6) and (u=='haut')):\n",
    "#         return(10)\n",
    "#     elif ((s==4)) or ((s==1) and (u=='bas')) or ((s==5) and (u=='gauche')) or ((s==7) and (u == 'haut')):\n",
    "#         return(-10)\n",
    "    if s==3:\n",
    "        return 10\n",
    "    elif s==4:\n",
    "        return -10\n",
    "    else:\n",
    "        return 0"
   ]
  },
  {
   "cell_type": "code",
   "execution_count": 153,
   "metadata": {},
   "outputs": [],
   "source": [
    "def  env_step(s, u):\n",
    "    next_state = transition(s,u)\n",
    "    rew = reward(s, u)\n",
    "    done = (s == 3)\n",
    "    return next_state, rew, done"
   ]
  },
  {
   "cell_type": "markdown",
   "metadata": {},
   "source": [
    "# Q-learning algorithm"
   ]
  },
  {
   "cell_type": "code",
   "execution_count": 154,
   "metadata": {},
   "outputs": [],
   "source": [
    "q_table = np.zeros([len(states),len(actions)])"
   ]
  },
  {
   "cell_type": "code",
   "execution_count": 159,
   "metadata": {},
   "outputs": [],
   "source": [
    "# Hyperparameters\n",
    "alpha = 0.1\n",
    "gamma = 0.6\n",
    "epsilon = 0.1\n",
    "\n",
    "# For plotting metrics\n",
    "all_epochs = []\n",
    "all_penalties = []"
   ]
  },
  {
   "cell_type": "code",
   "execution_count": 162,
   "metadata": {},
   "outputs": [
    {
     "name": "stdout",
     "output_type": "stream",
     "text": [
      "Training finished.\n",
      "\n"
     ]
    }
   ],
   "source": [
    "for i in range(1, 10000):\n",
    "    s = np.random.randint(1,len(states)+1) #initial state\n",
    "    state_index = s-1\n",
    "    \n",
    "    epochs, penalties, rew = 0, 0, 0\n",
    "    done = False\n",
    "    \n",
    "    while not done:\n",
    "        if (s==3):\n",
    "            done = True\n",
    "            rew = env_step(s, 'bas')#n'importe quelle action\n",
    "            \n",
    "        else:\n",
    "            if np.random.uniform(0, 1) < epsilon:\n",
    "                action_index = np.random.randint(0,len(actions)) # Explore action space\n",
    "            else:\n",
    "                action_index = np.argmax(q_table[state_index]) # Exploit learned values\n",
    "\n",
    "            u = actions[action_index]\n",
    "\n",
    "            next_state, rew, done = env_step(s, u)\n",
    "            next_state_index = next_state - 1\n",
    "\n",
    "            old_value = q_table[state_index, action_index]\n",
    "            next_max = np.max(q_table[next_state_index])\n",
    "\n",
    "            new_value = (1 - alpha) * old_value + alpha * (rew + gamma * next_max)\n",
    "            q_table[state_index, action_index] = new_value\n",
    "\n",
    "            if rew == -10:\n",
    "                penalties += 1\n",
    "\n",
    "            s = next_state\n",
    "            state_index = s-1\n",
    "\n",
    "        epochs += 1\n",
    "\n",
    "\n",
    "print(\"Training finished.\\n\")"
   ]
  },
  {
   "cell_type": "code",
   "execution_count": 163,
   "metadata": {},
   "outputs": [
    {
     "name": "stdout",
     "output_type": "stream",
     "text": [
      "['droite', 'haut', 'gauche', 'bas']\n",
      "[[  9.           5.2612627    5.28236425  -2.7456397 ]\n",
      " [ 15.           8.99226026   5.39401553   5.39853449]\n",
      " [ 25.          23.19652531  17.57958464  16.72137917]\n",
      " [ -4.6         -4.61380276 -12.57732192  -7.99489779]\n",
      " [  9.           8.99573381  -2.75390342   3.23864383]\n",
      " [  9.          15.           5.4          5.4       ]\n",
      " [  3.24        -2.68323656   1.92141055   1.91834253]\n",
      " [  5.4          5.3971021    1.94348803   3.23790099]\n",
      " [  5.39993647   9.           3.23996696   5.39994978]]\n"
     ]
    }
   ],
   "source": [
    "print(actions)\n",
    "print(q_table)"
   ]
  }
 ],
 "metadata": {
  "kernelspec": {
   "display_name": "Python 3",
   "language": "python",
   "name": "python3"
  },
  "language_info": {
   "codemirror_mode": {
    "name": "ipython",
    "version": 3
   },
   "file_extension": ".py",
   "mimetype": "text/x-python",
   "name": "python",
   "nbconvert_exporter": "python",
   "pygments_lexer": "ipython3",
   "version": "3.7.4"
  }
 },
 "nbformat": 4,
 "nbformat_minor": 4
}
