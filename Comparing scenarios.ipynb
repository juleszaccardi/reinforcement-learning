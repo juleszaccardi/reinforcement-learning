{
 "cells": [
  {
   "cell_type": "code",
   "execution_count": 1,
   "metadata": {},
   "outputs": [],
   "source": [
    "import numpy as np\n",
    "import matplotlib.pyplot as plt\n",
    "import time as time"
   ]
  },
  {
   "cell_type": "markdown",
   "metadata": {},
   "source": [
    "### States, actions and parameters of the problem"
   ]
  },
  {
   "cell_type": "code",
   "execution_count": 2,
   "metadata": {},
   "outputs": [],
   "source": [
    "states = [1,2,3,4,5,6,7,8,9]\n",
    "actions = ['droite', 'haut','gauche','bas']\n",
    "\n",
    "# Hyperparameters\n",
    "alpha = 0.1 #learning rate\n",
    "gamma = 0.6 #discount factor\n",
    "epsilon = 0.1 #probability of making a greedy action"
   ]
  },
  {
   "cell_type": "markdown",
   "metadata": {},
   "source": [
    "### Framework deterministic scenario"
   ]
  },
  {
   "cell_type": "code",
   "execution_count": 3,
   "metadata": {},
   "outputs": [],
   "source": [
    "def transition_matrix(u):\n",
    "    if u == 'gauche':\n",
    "        mini = np.array([[1,0,0],[1,0,0],[0,1,0]])\n",
    "        zeros_block = np.array([[0,0,0],[0,0,0],[0,0,0]])\n",
    "        tr = np.block([[mini, zeros_block, zeros_block], [zeros_block,mini, zeros_block],[zeros_block,zeros_block,mini]])\n",
    "    \n",
    "    if u == 'droite':\n",
    "        mini = np.array([[0,1,0],[0,0,1],[0,0,1]])\n",
    "        zeros_block = np.array([[0,0,0],[0,0,0],[0,0,0]])\n",
    "        tr = np.block([[mini, zeros_block, zeros_block], [zeros_block,mini, zeros_block],[zeros_block,zeros_block,mini]])\n",
    "        \n",
    "    if u == 'haut':\n",
    "        mini = np.eye(3)\n",
    "        zeros_block = np.array([[0,0,0],[0,0,0],[0,0,0]])\n",
    "        tr = np.block([[mini, zeros_block, zeros_block], [mini, zeros_block, zeros_block],[zeros_block,mini,zeros_block]])\n",
    "        \n",
    "    if u == 'bas':\n",
    "        mini = np.eye(3)\n",
    "        zeros_block = np.array([[0,0,0],[0,0,0],[0,0,0]])\n",
    "        tr = np.block([[zeros_block, mini, zeros_block], [zeros_block, zeros_block, mini],[zeros_block,zeros_block, mini]])    \n",
    "    return tr\n",
    "\n",
    "def transition(s, u):\n",
    "    tr = transition_matrix(u)\n",
    "    ligne = tr[s - 1]\n",
    "    return np.random.choice(states, size=1, replace=True, p=ligne)[0]\n",
    "\n",
    "def reward(s, u):\n",
    "    if s==3:\n",
    "        return 10\n",
    "    elif s==4:\n",
    "        return -10\n",
    "    else:\n",
    "        return 0\n",
    "\n",
    "def  env_step(s, u):\n",
    "    next_state = transition(s,u)\n",
    "    rew = reward(s, u)\n",
    "    done = ((s == 3) or (next_state == 3))\n",
    "    return next_state, rew, done"
   ]
  },
  {
   "cell_type": "markdown",
   "metadata": {},
   "source": [
    "### Framework windy scenario"
   ]
  },
  {
   "cell_type": "code",
   "execution_count": 4,
   "metadata": {},
   "outputs": [],
   "source": [
    "w = 'gauche'#provenance du vent\n",
    "f = 0.1 #force du vent\n",
    "\n",
    "def transition_matrix_wind(u, wind, force):\n",
    "        \n",
    "    if u == 'gauche':\n",
    "        mini = np.array([[1,0,0],[1,0,0],[0,1,0]])\n",
    "        zeros_block = np.array([[0,0,0],[0,0,0],[0,0,0]])\n",
    "        tr = np.block([[mini, zeros_block, zeros_block], [zeros_block,mini, zeros_block],[zeros_block,zeros_block,mini]])\n",
    "    if u == 'droite':\n",
    "        mini = np.array([[0,1,0],[0,0,1],[0,0,1]])\n",
    "        zeros_block = np.array([[0,0,0],[0,0,0],[0,0,0]])\n",
    "        tr = np.block([[mini, zeros_block, zeros_block], [zeros_block,mini, zeros_block],[zeros_block,zeros_block,mini]])\n",
    "    if u == 'haut':\n",
    "        mini = np.eye(3)\n",
    "        zeros_block = np.array([[0,0,0],[0,0,0],[0,0,0]])\n",
    "        tr = np.block([[mini, zeros_block, zeros_block], [mini, zeros_block, zeros_block],[zeros_block,mini,zeros_block]])\n",
    "    if u == 'bas':\n",
    "        mini = np.eye(3)\n",
    "        zeros_block = np.array([[0,0,0],[0,0,0],[0,0,0]])\n",
    "        tr = np.block([[zeros_block, mini, zeros_block], [zeros_block, zeros_block, mini],[zeros_block,zeros_block, mini]])\n",
    "    \n",
    "    #adding a wind component:\n",
    "    if wind == 'droite':\n",
    "        mini_wind = np.array([[1-force,force,0],[0,1-force,force],[0,0,1]])\n",
    "        zeros_block = np.array([[0,0,0],[0,0,0],[0,0,0]])\n",
    "        wind_mat = np.block([[mini_wind, zeros_block, zeros_block], [zeros_block,mini_wind, zeros_block],[zeros_block,zeros_block,mini_wind]])\n",
    "    if wind == 'gauche':\n",
    "        mini_wind = np.array([[1,0,0],[force,1-force,0],[0,force,1-force]])\n",
    "        zeros_block = np.array([[0,0,0],[0,0,0],[0,0,0]])\n",
    "        wind_mat = np.block([[mini_wind, zeros_block, zeros_block], [zeros_block,mini_wind, zeros_block],[zeros_block,zeros_block,mini_wind]])\n",
    "    if wind == 'haut':\n",
    "        mini_wind1 = np.identity(3)*force\n",
    "        mini_wind2 = np.identity(3)*(1-force)\n",
    "        zeros_block = np.array([[0,0,0],[0,0,0],[0,0,0]])\n",
    "        wind_mat = np.block([[np.identity(3), zeros_block, zeros_block], [mini_wind1,mini_wind2, zeros_block],[zeros_block,mini_wind1,mini_wind2]])\n",
    "    if wind == 'bas':\n",
    "        mini_wind1 = np.identity(3)*force\n",
    "        mini_wind2 = np.identity(3)*(1-force)\n",
    "        zeros_block = np.array([[0,0,0],[0,0,0],[0,0,0]])\n",
    "        wind_mat = np.block([[mini_wind2,mini_wind1, zeros_block],[zeros_block,mini_wind2,mini_wind1], [zeros_block, zeros_block,np.identity(3)]])\n",
    "        \n",
    "    return (np.dot(tr, wind_mat))\n",
    "\n",
    "def transition_wind(s, u, wind, force):\n",
    "    tr = transition_matrix_wind(u, wind, force)\n",
    "    ligne = tr[s - 1]\n",
    "    return np.random.choice(states, size=1, replace=True, p=ligne)[0]\n",
    "\n",
    "def reward(s, u):\n",
    "    if s==3:\n",
    "        return 10\n",
    "    elif s==4:\n",
    "        return -10\n",
    "    else:\n",
    "        return 0\n",
    "\n",
    "def env_step_wind(s, u, wind, force):\n",
    "    next_state = transition_wind(s, u, wind, force)\n",
    "    rew = reward(s, u)\n",
    "    done = ((s == 3) or (next_state == 3))\n",
    "    return next_state, rew, done"
   ]
  },
  {
   "cell_type": "markdown",
   "metadata": {},
   "source": [
    "### Framework very windy (random) scenario"
   ]
  },
  {
   "cell_type": "code",
   "execution_count": 5,
   "metadata": {},
   "outputs": [],
   "source": [
    "matrix1 = np.random.rand(len(states),len(states))\n",
    "matrix2 = np.random.rand(len(states),len(states))\n",
    "matrix3 = np.random.rand(len(states),len(states))\n",
    "matrix4 = np.random.rand(len(states),len(states))\n",
    "\n",
    "matrix1 = matrix1/matrix1.sum(axis=1)[:,None]\n",
    "matrix2 = matrix2/matrix2.sum(axis=1)[:,None]\n",
    "matrix3 = matrix3/matrix3.sum(axis=1)[:,None]\n",
    "matrix4 = matrix4/matrix4.sum(axis=1)[:,None]\n",
    "\n",
    "def transition_matrix_random(u, m1, m2,m3,m4):\n",
    "    if u == 'gauche':\n",
    "        tr = m1\n",
    "    if u == 'droite':\n",
    "        tr = m2\n",
    "    if u == 'haut':\n",
    "        tr = m3\n",
    "    if u == 'bas':\n",
    "        tr = m4\n",
    "    return(tr)\n",
    "\n",
    "def transition_random(s, u, m1, m2,m3,m4):\n",
    "    tr = transition_matrix_random(u, m1, m2,m3,m4)\n",
    "    ligne = tr[s - 1]\n",
    "    return np.random.choice(states, size=1, replace=True, p=ligne)[0]\n",
    "\n",
    "def reward(s, u):\n",
    "    if s==3:\n",
    "        return 10\n",
    "    elif s==4:\n",
    "        return -10\n",
    "    else:\n",
    "        return 0\n",
    "\n",
    "def env_step_random(s, u, m1, m2,m3,m4):\n",
    "    next_state = transition_random(s, u, m1, m2,m3,m4)\n",
    "    rew = reward(s, u)\n",
    "    done = ((s == 3) or (next_state == 3))\n",
    "    return next_state, rew, done"
   ]
  },
  {
   "cell_type": "markdown",
   "metadata": {},
   "source": [
    "## Computing optimal values using value iteration algorithm"
   ]
  },
  {
   "cell_type": "markdown",
   "metadata": {},
   "source": [
    "In order to test the convergence of the Q-learning algorithm, we first computed the $Q^*$ values using the value iteration algorithm"
   ]
  },
  {
   "cell_type": "markdown",
   "metadata": {},
   "source": [
    "### $Q^*$ deterministic scenario"
   ]
  },
  {
   "cell_type": "code",
   "execution_count": 6,
   "metadata": {},
   "outputs": [
    {
     "name": "stdout",
     "output_type": "stream",
     "text": [
      "['droite', 'haut', 'gauche', 'bas']\n"
     ]
    },
    {
     "data": {
      "text/plain": [
       "array([[  9.   ,   5.4  ,   5.4  ,  -2.76 ],\n",
       "       [ 15.   ,   9.   ,   5.4  ,   5.4  ],\n",
       "       [ 25.   ,  25.   ,  19.   ,  19.   ],\n",
       "       [ -4.6  ,  -4.6  , -12.76 ,  -8.056],\n",
       "       [  9.   ,   9.   ,  -2.76 ,   3.24 ],\n",
       "       [  9.   ,  15.   ,   5.4  ,   5.4  ],\n",
       "       [  3.24 ,  -2.76 ,   1.944,   1.944],\n",
       "       [  5.4  ,   5.4  ,   1.944,   3.24 ],\n",
       "       [  5.4  ,   9.   ,   3.24 ,   5.4  ]])"
      ]
     },
     "execution_count": 6,
     "metadata": {},
     "output_type": "execute_result"
    }
   ],
   "source": [
    "q_dp = np.zeros([len(states),len(actions)])\n",
    "q_dp[2]=10\n",
    "q_dp[3]=-10\n",
    "\n",
    "\n",
    "for t in range(100, 0,-1):\n",
    "    q_dp_new = q_dp.copy()\n",
    "    for i in range(len(states)):\n",
    "        for j in range(len(actions)):\n",
    "            u = actions[j]\n",
    "            s = states[i]\n",
    "            trmat = transition_matrix(u)\n",
    "            ligne_i = trmat[i]\n",
    "            q_max = np.max(q_dp, axis = 1)\n",
    "            q_dp_new[i][j] = reward(s,u) + gamma*np.dot(q_max, ligne_i)\n",
    "    q_dp = q_dp_new\n",
    "\n",
    "print(actions)\n",
    "q_dp"
   ]
  },
  {
   "cell_type": "markdown",
   "metadata": {},
   "source": [
    "### $Q^*$ windy scenario"
   ]
  },
  {
   "cell_type": "code",
   "execution_count": 7,
   "metadata": {},
   "outputs": [
    {
     "name": "stdout",
     "output_type": "stream",
     "text": [
      "['droite', 'haut', 'gauche', 'bas']\n"
     ]
    },
    {
     "data": {
      "text/plain": [
       "array([[  7.75531915,   4.65319149,   4.65319149,  -3.20808511],\n",
       "       [ 13.5       ,   7.75531915,   4.65319149,   3.86706383],\n",
       "       [ 23.5       ,  23.5       ,  17.75531915,  17.75531915],\n",
       "       [ -6.13293617,  -5.34680851, -13.20808511,  -8.46438361],\n",
       "       [  7.75531915,   7.75531915,  -3.20808511,   2.55936064],\n",
       "       [  7.75531915,  13.5       ,   3.86706383,   4.45518334],\n",
       "       [  2.55936064,  -3.20808511,   1.53561639,   1.53561639],\n",
       "       [  4.45518334,   3.86706383,   1.53561639,   2.55936064],\n",
       "       [  4.45518334,   7.75531915,   2.55936064,   4.45518334]])"
      ]
     },
     "execution_count": 7,
     "metadata": {},
     "output_type": "execute_result"
    }
   ],
   "source": [
    "q_dp_wind = np.zeros([len(states),len(actions)])\n",
    "q_dp_wind[2]=10\n",
    "q_dp_wind[3]=-10\n",
    "\n",
    "\n",
    "for t in range(100, 0,-1):\n",
    "    q_dp_wind_new = q_dp_wind.copy()\n",
    "    for i in range(len(states)):\n",
    "        for j in range(len(actions)):\n",
    "            u = actions[j]\n",
    "            s = states[i]\n",
    "            trmat = transition_matrix_wind(u,w,f)\n",
    "            ligne_i = trmat[i]\n",
    "            q_max = np.max(q_dp_wind, axis = 1)\n",
    "            q_dp_wind_new[i][j] = reward(s,u) + gamma*np.dot(q_max, ligne_i)\n",
    "    q_dp_wind = q_dp_wind_new\n",
    "\n",
    "print(actions)\n",
    "q_dp_wind"
   ]
  },
  {
   "cell_type": "markdown",
   "metadata": {},
   "source": [
    "### $Q^*$ very windy (random) scenario"
   ]
  },
  {
   "cell_type": "code",
   "execution_count": 32,
   "metadata": {},
   "outputs": [
    {
     "name": "stdout",
     "output_type": "stream",
     "text": [
      "['droite', 'haut', 'gauche', 'bas']\n"
     ]
    },
    {
     "data": {
      "text/plain": [
       "array([[ 0.96176279,  1.45979628, -0.13825644,  0.72389366],\n",
       "       [ 1.08623482,  2.17775518,  1.33878004,  1.90948802],\n",
       "       [10.77308385, 11.55296575, 10.36073613, 11.96120928],\n",
       "       [-8.71530887, -8.09182283, -9.67268573, -8.44338934],\n",
       "       [ 1.52558309,  0.07020289,  1.81077755,  0.94100724],\n",
       "       [ 2.22932152,  0.38954168,  0.8951855 ,  0.08328424],\n",
       "       [ 0.57393198,  1.13642931,  0.83745809,  1.15559096],\n",
       "       [ 0.33073403,  1.11204188,  1.12615895,  1.30708253],\n",
       "       [ 0.98155357,  0.93091537,  1.10330044,  0.02865551]])"
      ]
     },
     "execution_count": 32,
     "metadata": {},
     "output_type": "execute_result"
    }
   ],
   "source": [
    "q_dp_random = np.zeros([len(states),len(actions)])\n",
    "q_dp_random[2]=10\n",
    "q_dp_random[3]=-10\n",
    "\n",
    "\n",
    "for t in range(100, 0,-1):\n",
    "    q_dp_random_new = q_dp_random.copy()\n",
    "    for i in range(len(states)):\n",
    "        for j in range(len(actions)):\n",
    "            u = actions[j]\n",
    "            s = states[i]\n",
    "            trmat = transition_matrix_random(u, matrix1, matrix2, matrix3, matrix4)\n",
    "            ligne_i = trmat[i]\n",
    "            q_max = np.max(q_dp_random, axis = 1)\n",
    "            q_dp_random_new[i][j] = reward(s,u) + gamma*np.dot(q_max, ligne_i)\n",
    "    q_dp_random = q_dp_random_new\n",
    "\n",
    "print(actions)\n",
    "q_dp_random"
   ]
  },
  {
   "cell_type": "markdown",
   "metadata": {},
   "source": [
    "## Convergence of Q-learning : comparing number of iterations and error, executing time and error"
   ]
  },
  {
   "cell_type": "markdown",
   "metadata": {},
   "source": [
    "We implemented the Q-learning algorithm, and applied it tothe different scenarios.  The goal of our experiment is to challenge the paper over thelimitations we identified in the previous section.  Our aim is to test the convergence of the algorithm, considering the real $Q^∗$values computed using a value iteration algorithm. We measure the error as the mean square error between the real $Q^∗$ values and the computed $Q$ values: $"
   ]
  },
  {
   "cell_type": "markdown",
   "metadata": {},
   "source": [
    "### Error in deterministic scenario"
   ]
  },
  {
   "cell_type": "code",
   "execution_count": 9,
   "metadata": {},
   "outputs": [
    {
     "name": "stdout",
     "output_type": "stream",
     "text": [
      "0\n",
      "1\n",
      "2\n",
      "3\n",
      "4\n",
      "5\n",
      "6\n",
      "7\n",
      "8\n",
      "9\n",
      "10\n",
      "11\n",
      "12\n",
      "13\n",
      "Training finished.\n",
      "\n"
     ]
    }
   ],
   "source": [
    "time_steps = np.logspace(1, 6, 15, endpoint=False).astype(int)\n",
    "error = np.zeros(len(time_steps))\n",
    "q_table = np.zeros([len(states),len(actions)])\n",
    "error[0] = (np.mean((q_table-q_dp)**2))**0.5\n",
    "\n",
    "for k in range(len(time_steps)-1):\n",
    "    print(k)\n",
    "    time = time_steps[k]\n",
    "    time_next = time_steps[k+1]\n",
    "    \n",
    "    for i in range(time, time_next):\n",
    "        s = np.random.randint(1,len(states)+1) #initial state\n",
    "        state_index = s-1\n",
    "\n",
    "        epochs, penalties, rew = 0, 0, 0\n",
    "        done = False\n",
    "\n",
    "        for j in range(3):\n",
    "            if np.random.uniform(0, 1) < epsilon:\n",
    "                action_index = np.random.randint(0,len(actions)) # Explore action space\n",
    "            else:\n",
    "                action_index = np.argmax(q_table[state_index]) # Exploit learned values\n",
    "\n",
    "            u = actions[action_index]\n",
    "\n",
    "            next_state, rew, done = env_step(s, u)\n",
    "            next_state_index = next_state - 1\n",
    "\n",
    "            old_value = q_table[state_index, action_index]\n",
    "            next_max = np.max(q_table[next_state_index])\n",
    "\n",
    "            new_value = (1 - alpha) * old_value + alpha * (rew + gamma * next_max)\n",
    "            q_table[state_index, action_index] = new_value\n",
    "\n",
    "            if rew == -10:\n",
    "                penalties += 1\n",
    "\n",
    "            s = next_state\n",
    "            state_index = s-1\n",
    "\n",
    "    error[k+1] = (np.mean((q_table-q_dp)**2))**0.5\n",
    "\n",
    "\n",
    "print(\"Training finished.\\n\")"
   ]
  },
  {
   "cell_type": "markdown",
   "metadata": {},
   "source": [
    "### Error in windy scenario"
   ]
  },
  {
   "cell_type": "code",
   "execution_count": 10,
   "metadata": {},
   "outputs": [
    {
     "name": "stdout",
     "output_type": "stream",
     "text": [
      "0\n",
      "1\n",
      "2\n",
      "3\n",
      "4\n",
      "5\n",
      "6\n",
      "7\n",
      "8\n",
      "9\n",
      "10\n",
      "11\n",
      "12\n",
      "13\n",
      "Training finished.\n",
      "\n"
     ]
    }
   ],
   "source": [
    "time_steps_wind = np.logspace(1, 6, 15, endpoint=False).astype(int)\n",
    "error_wind = np.zeros(len(time_steps))\n",
    "q_table_wind = np.zeros([len(states),len(actions)])\n",
    "error_wind[0] = (np.mean((q_table_wind-q_dp_wind)**2))**0.5\n",
    "\n",
    "for k in range(len(time_steps_wind)-1):\n",
    "    print(k)\n",
    "    time = time_steps_wind[k]\n",
    "    time_next = time_steps_wind[k+1]\n",
    "    \n",
    "    for i in range(time, time_next):\n",
    "        s = np.random.randint(1,len(states)+1) #initial state\n",
    "        state_index = s-1\n",
    "\n",
    "        epochs, penalties, rew = 0, 0, 0\n",
    "        done = False\n",
    "\n",
    "        for j in range(3):\n",
    "            if np.random.uniform(0, 1) < epsilon:\n",
    "                action_index = np.random.randint(0,len(actions)) # Explore action space\n",
    "            else:\n",
    "                action_index = np.argmax(q_table_wind[state_index]) # Exploit learned values\n",
    "\n",
    "            u = actions[action_index]\n",
    "\n",
    "            next_state, rew, done = env_step_wind(s, u, w, f)\n",
    "            next_state_index = next_state - 1\n",
    "\n",
    "            old_value = q_table_wind[state_index, action_index]\n",
    "            next_max = np.max(q_table_wind[next_state_index])\n",
    "\n",
    "            new_value = (1 - alpha) * old_value + alpha * (rew + gamma * next_max)\n",
    "            q_table_wind[state_index, action_index] = new_value\n",
    "\n",
    "            if rew == -10:\n",
    "                penalties += 1\n",
    "\n",
    "            s = next_state\n",
    "            state_index = s-1\n",
    "\n",
    "            \n",
    "    error_wind[k+1] = (np.mean((q_table_wind-q_dp_wind)**2))**0.5\n",
    "\n",
    "\n",
    "print(\"Training finished.\\n\")"
   ]
  },
  {
   "cell_type": "markdown",
   "metadata": {},
   "source": [
    "### Error in very windy (random) scenario"
   ]
  },
  {
   "cell_type": "code",
   "execution_count": 11,
   "metadata": {},
   "outputs": [
    {
     "name": "stdout",
     "output_type": "stream",
     "text": [
      "0\n",
      "1\n",
      "2\n",
      "3\n",
      "4\n",
      "5\n",
      "6\n",
      "7\n",
      "8\n",
      "9\n",
      "10\n",
      "11\n",
      "12\n",
      "13\n",
      "Training finished.\n",
      "\n"
     ]
    }
   ],
   "source": [
    "time_steps_random = np.logspace(1, 6, 15, endpoint=False).astype(int)\n",
    "error_random = np.zeros(len(time_steps))\n",
    "q_table_random = np.zeros([len(states),len(actions)])\n",
    "error_random[0] = (np.mean((q_table_random-q_dp_random)**2))**0.5\n",
    "\n",
    "for k in range(len(time_steps_random)-1):\n",
    "    print(k)\n",
    "    time = time_steps_random[k]\n",
    "    time_next = time_steps_random[k+1]\n",
    "\n",
    "    for i in range(time, time_next):\n",
    "        s = np.random.randint(1,len(states)+1) #initial state\n",
    "        state_index = s-1\n",
    "\n",
    "        epochs, penalties, rew = 0, 0, 0\n",
    "        done = False\n",
    "\n",
    "        for j in range(3):\n",
    "            if np.random.uniform(0, 1) < epsilon:\n",
    "                action_index = np.random.randint(0,len(actions)) # Explore action space\n",
    "            else:\n",
    "                action_index = np.argmax(q_table_random[state_index]) # Exploit learned values\n",
    "\n",
    "            u = actions[action_index]\n",
    "\n",
    "            next_state, rew, done = env_step_random(s, u, matrix1, matrix2, matrix3, matrix4)\n",
    "            next_state_index = next_state - 1\n",
    "\n",
    "            old_value = q_table_random[state_index, action_index]\n",
    "            next_max = np.max(q_table_random[next_state_index])\n",
    "\n",
    "            new_value = (1 - alpha) * old_value + alpha * (rew + gamma * next_max)\n",
    "            q_table_random[state_index, action_index] = new_value\n",
    "\n",
    "            if rew == -10:\n",
    "                penalties += 1\n",
    "\n",
    "            s = next_state\n",
    "            state_index = s-1\n",
    "\n",
    "            \n",
    "    error_random[k+1] = (np.mean((q_table_random-q_dp_random)**2))**0.5\n",
    "\n",
    "\n",
    "print(\"Training finished.\\n\")"
   ]
  },
  {
   "cell_type": "code",
   "execution_count": 34,
   "metadata": {},
   "outputs": [
    {
     "data": {
      "text/plain": [
       "Text(0, 0.5, 'MSE')"
      ]
     },
     "execution_count": 34,
     "metadata": {},
     "output_type": "execute_result"
    },
    {
     "data": {
      "image/png": "[encoded data removed]",
      "text/plain": [
       "<Figure size 432x288 with 1 Axes>"
      ]
     },
     "metadata": {
      "needs_background": "light"
     },
     "output_type": "display_data"
    }
   ],
   "source": [
    "error_plot, = plt.plot(np.log(time_steps),error )\n",
    "error_plot_wind, = plt.plot(np.log(time_steps_wind),error_wind)\n",
    "error_plot_random, = plt.plot(np.log(time_steps_random), error_random)\n",
    "\n",
    "plt.legend([error_plot, error_plot_wind,error_plot_random ], ['Deterministic', 'Windy', 'Random'])\n",
    "plt.xlabel('log - number of iterations')\n",
    "plt.ylabel('MSE')"
   ]
  },
  {
   "cell_type": "markdown",
   "metadata": {},
   "source": [
    "## Challenging the algorithm: stopping before convergence"
   ]
  },
  {
   "cell_type": "markdown",
   "metadata": {},
   "source": [
    "There  are  actually  plenty  of  situations  where  conducting  experimentsis expensive, and the users might need to interrupt the process or limit the number ofiterations, while still having a good estimation and a good policy.  What would happenwith Q-learning if someone needed to stop it before convergence ?  Could one still relyon the results ?  How bad would it be ?\n",
    "Let's take one example: we are only able to conduct 500 iterations of the Q-learning algorithm.\n",
    "We will compare the estimation of the $Q$ values and the policies."
   ]
  },
  {
   "cell_type": "code",
   "execution_count": 14,
   "metadata": {},
   "outputs": [],
   "source": [
    "Nit = 500 #number of iterations of the algorithm"
   ]
  },
  {
   "cell_type": "markdown",
   "metadata": {},
   "source": [
    "### Deterministic scenario : 500 iterations"
   ]
  },
  {
   "cell_type": "code",
   "execution_count": 15,
   "metadata": {},
   "outputs": [
    {
     "name": "stdout",
     "output_type": "stream",
     "text": [
      "Training finished.\n",
      "\n"
     ]
    }
   ],
   "source": [
    "q_table500 = np.zeros([len(states),len(actions)])\n",
    "\n",
    "for i in range(Nit):\n",
    "    s = np.random.randint(1,len(states)+1) #initial state\n",
    "    state_index = s-1\n",
    "\n",
    "    epochs, penalties, rew = 0, 0, 0\n",
    "    done = False\n",
    "\n",
    "    for j in range(3):\n",
    "        if np.random.uniform(0, 1) < epsilon:\n",
    "            action_index = np.random.randint(0,len(actions)) # Explore action space\n",
    "        else:\n",
    "            action_index = np.argmax(q_table500[state_index]) # Exploit learned values\n",
    "\n",
    "        u = actions[action_index]\n",
    "\n",
    "        next_state, rew, done = env_step(s, u)\n",
    "        next_state_index = next_state - 1\n",
    "\n",
    "        old_value = q_table500[state_index, action_index]\n",
    "        next_max = np.max(q_table500[next_state_index])\n",
    "\n",
    "        new_value = (1 - alpha) * old_value + alpha * (rew + gamma * next_max)\n",
    "        q_table500[state_index, action_index] = new_value\n",
    "\n",
    "        if rew == -10:\n",
    "            penalties += 1\n",
    "\n",
    "        s = next_state\n",
    "        state_index = s-1\n",
    "\n",
    "        epochs += 1\n",
    "\n",
    "print(\"Training finished.\\n\")"
   ]
  },
  {
   "cell_type": "markdown",
   "metadata": {},
   "source": [
    "### Windy scenario : 500 iterations"
   ]
  },
  {
   "cell_type": "code",
   "execution_count": 16,
   "metadata": {},
   "outputs": [
    {
     "name": "stdout",
     "output_type": "stream",
     "text": [
      "Training finished.\n",
      "\n"
     ]
    }
   ],
   "source": [
    "q_table_wind500 = np.zeros([len(states),len(actions)])\n",
    "\n",
    "for i in range(500):\n",
    "    s = np.random.randint(1,len(states)+1) #initial state\n",
    "    state_index = s-1\n",
    "    \n",
    "    epochs, penalties, rew = 0, 0, 0\n",
    "    done = False\n",
    "    \n",
    "    for j in range(5):\n",
    "        if np.random.uniform(0, 1) < epsilon:\n",
    "            action_index = np.random.randint(0,len(actions)) # Explore action space\n",
    "        else:\n",
    "            action_index = np.argmax(q_table_wind500[state_index]) # Exploit learned values\n",
    "\n",
    "        u = actions[action_index]\n",
    "\n",
    "        next_state, rew, done = env_step_wind(s, u, w, f)\n",
    "        next_state_index = next_state - 1\n",
    "        \n",
    "        old_value = q_table_wind500[state_index, action_index]\n",
    "        next_max = np.max(q_table_wind500[next_state_index])\n",
    "\n",
    "        new_value = (1 - alpha) * old_value + alpha * (rew + gamma * next_max)\n",
    "        q_table_wind500[state_index, action_index] = new_value\n",
    "\n",
    "        if rew == -10:\n",
    "            penalties += 1\n",
    "\n",
    "        s = next_state\n",
    "        state_index = s-1\n",
    "\n",
    "        epochs += 1\n",
    "\n",
    "print(\"Training finished.\\n\")"
   ]
  },
  {
   "cell_type": "markdown",
   "metadata": {},
   "source": [
    "### Very windy (random) scenario:500 iterations"
   ]
  },
  {
   "cell_type": "code",
   "execution_count": 17,
   "metadata": {},
   "outputs": [
    {
     "name": "stdout",
     "output_type": "stream",
     "text": [
      "Training finished.\n",
      "\n"
     ]
    }
   ],
   "source": [
    "q_table_random500 = np.zeros([len(states),len(actions)])\n",
    "\n",
    "for i in range(500):\n",
    "    s = np.random.randint(1,len(states)+1) #initial state\n",
    "    state_index = s-1\n",
    "    \n",
    "    epochs, penalties, rew = 0, 0, 0\n",
    "    done = False\n",
    "    \n",
    "    for j in range(5):\n",
    "        if np.random.uniform(0, 1) < epsilon:\n",
    "            action_index = np.random.randint(0,len(actions)) # Explore action space\n",
    "        else:\n",
    "            action_index = np.argmax(q_table_random500[state_index]) # Exploit learned values\n",
    "\n",
    "        u = actions[action_index]\n",
    "\n",
    "        next_state, rew, done = env_step_random(s, u, matrix1, matrix2, matrix3, matrix4)\n",
    "        next_state_index = next_state - 1\n",
    "        \n",
    "        old_value = q_table_random500[state_index, action_index]\n",
    "        next_max = np.max(q_table_random500[next_state_index])\n",
    "\n",
    "        new_value = (1 - alpha) * old_value + alpha * (rew + gamma * next_max)\n",
    "        q_table_random500[state_index, action_index] = new_value\n",
    "\n",
    "        if rew == -10:\n",
    "            penalties += 1\n",
    "\n",
    "        s = next_state\n",
    "        state_index = s-1\n",
    "\n",
    "        epochs += 1\n",
    "\n",
    "print(\"Training finished.\\n\")"
   ]
  },
  {
   "cell_type": "markdown",
   "metadata": {},
   "source": [
    "### Error and policy differences"
   ]
  },
  {
   "cell_type": "code",
   "execution_count": 18,
   "metadata": {},
   "outputs": [],
   "source": [
    "error500 = (np.mean((q_table500-q_dp)**2))**0.5\n",
    "error_wind500 = (np.mean((q_table_wind500-q_dp_wind)**2))**0.5\n",
    "error_random500 = (np.mean((q_table_random500-q_dp_random)**2))**0.5"
   ]
  },
  {
   "cell_type": "code",
   "execution_count": 19,
   "metadata": {},
   "outputs": [
    {
     "name": "stdout",
     "output_type": "stream",
     "text": [
      "3.9657881001019586\n",
      "2.7591287191473417\n",
      "1.8593277983323746\n"
     ]
    }
   ],
   "source": [
    "print(error500)\n",
    "print(error_wind500)\n",
    "print(error_random500)"
   ]
  },
  {
   "cell_type": "code",
   "execution_count": 46,
   "metadata": {},
   "outputs": [],
   "source": [
    "def get_policy(q):\n",
    "    return([actions[i] for i in np.argmax(q, axis = 1)])"
   ]
  },
  {
   "cell_type": "code",
   "execution_count": 56,
   "metadata": {},
   "outputs": [
    {
     "data": {
      "text/plain": [
       "['haut',\n",
       " 'gauche',\n",
       " 'droite',\n",
       " 'haut',\n",
       " 'bas',\n",
       " 'droite',\n",
       " 'gauche',\n",
       " 'haut',\n",
       " 'droite']"
      ]
     },
     "execution_count": 56,
     "metadata": {},
     "output_type": "execute_result"
    }
   ],
   "source": [
    "get_policy(q_table_random500)"
   ]
  },
  {
   "cell_type": "code",
   "execution_count": null,
   "metadata": {},
   "outputs": [],
   "source": []
  }
 ],
 "metadata": {
  "kernelspec": {
   "display_name": "Python 3",
   "language": "python",
   "name": "python3"
  },
  "language_info": {
   "codemirror_mode": {
    "name": "ipython",
    "version": 3
   },
   "file_extension": ".py",
   "mimetype": "text/x-python",
   "name": "python",
   "nbconvert_exporter": "python",
   "pygments_lexer": "ipython3",
   "version": "3.7.4"
  }
 },
 "nbformat": 4,
 "nbformat_minor": 4
}
